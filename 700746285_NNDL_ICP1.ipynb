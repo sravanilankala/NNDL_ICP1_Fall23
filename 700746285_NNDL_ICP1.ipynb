{
  "nbformat": 4,
  "nbformat_minor": 0,
  "metadata": {
    "colab": {
      "provenance": []
    },
    "kernelspec": {
      "name": "python3",
      "display_name": "Python 3"
    },
    "language_info": {
      "name": "python"
    }
  },
  "cells": [
    {
      "cell_type": "code",
      "execution_count": 17,
      "metadata": {
        "colab": {
          "base_uri": "https://localhost:8080/"
        },
        "id": "UokzIVnthkWv",
        "outputId": "b08b4cf0-7618-407f-f87e-1c1fc00a45a9"
      },
      "outputs": [
        {
          "name": "stdout",
          "output_type": "stream",
          "text": [
            "Enter a string:Python\n"
          ]
        }
      ],
      "source": [
        "# 1a. Input the string “Python” as a list of characters from console, delete at least 2 characters, reverse the resultant string and print it\n",
        "# Ask user to input string\n",
        "input_str = list(input(\"Enter a string:\"))"
      ]
    },
    {
      "cell_type": "code",
      "source": [
        "# Delete 2 characters from the string\n",
        "chars_to_del = min(2, len(input_str))\n",
        "output_str = input_str[chars_to_del:]\n",
        "\n",
        "# print result\n",
        "print(\"Output string after deleting 2 chars: \", output_str)\n"
      ],
      "metadata": {
        "colab": {
          "base_uri": "https://localhost:8080/"
        },
        "id": "h1Zg7iNniKBH",
        "outputId": "07c67b5a-e80f-4894-fb6f-411f3242f03b"
      },
      "execution_count": 18,
      "outputs": [
        {
          "output_type": "stream",
          "name": "stdout",
          "text": [
            "Output string after deleting 2 chars:  ['t', 'h', 'o', 'n']\n"
          ]
        }
      ]
    },
    {
      "cell_type": "code",
      "source": [
        "# Reverse String\n",
        "reversed_str = ''.join(reversed(output_str))\n",
        "\n",
        "# Print reversed string\n",
        "print(\"Reversed string: \", reversed_str)"
      ],
      "metadata": {
        "colab": {
          "base_uri": "https://localhost:8080/"
        },
        "id": "8wKWyzNejP71",
        "outputId": "0f1ec094-e409-4bfd-ea4d-e69368e793f8"
      },
      "execution_count": 21,
      "outputs": [
        {
          "output_type": "stream",
          "name": "stdout",
          "text": [
            "Reversed string:  noht\n"
          ]
        }
      ]
    },
    {
      "cell_type": "code",
      "source": [
        "# 1b. Take two numbers from user and perform at least 4 arithmetic operations\n",
        "# Ask user to input two numbers\n",
        "n1 = float(input(\"Enter first num: \"))\n",
        "n2 = float(input(\"Enter second num: \"))"
      ],
      "metadata": {
        "colab": {
          "base_uri": "https://localhost:8080/"
        },
        "id": "pFmh1M2ooXlM",
        "outputId": "d8dfbe90-7c37-440d-eac4-67daae8f2f69"
      },
      "execution_count": 22,
      "outputs": [
        {
          "name": "stdout",
          "output_type": "stream",
          "text": [
            "Enter first num: 5\n",
            "Enter second num: 15.0\n"
          ]
        }
      ]
    },
    {
      "cell_type": "code",
      "source": [
        "# Arithmetic operations addition, substraction, multiplication and division\n",
        "add = n1 + n2\n",
        "sub = n1 - n2\n",
        "mul = n1 * n2\n",
        "\n",
        "# Print results of addition, substraction and multiplication\n",
        "print(\"Addition: \", add)\n",
        "print(\"Substraction: \", sub)\n",
        "print(\"Multiplication: \", mul)"
      ],
      "metadata": {
        "colab": {
          "base_uri": "https://localhost:8080/"
        },
        "id": "xLSRiq1rqGdZ",
        "outputId": "9c5c1b05-4271-4377-f653-95cb73c838cb"
      },
      "execution_count": 24,
      "outputs": [
        {
          "output_type": "stream",
          "name": "stdout",
          "text": [
            "Addition:  20.0\n",
            "Substraction:  -10.0\n",
            "Multiplication:  75.0\n"
          ]
        }
      ]
    },
    {
      "cell_type": "code",
      "source": [
        "# Division operation\n",
        "# check number2 is not zero for division\n",
        "if n2 != 0:\n",
        "  div = n1 / n2\n",
        "else:\n",
        "  div = \"can't divide by zero\"\n",
        "\n",
        "# Print result\n",
        "print(\"Division: \", div)"
      ],
      "metadata": {
        "colab": {
          "base_uri": "https://localhost:8080/"
        },
        "id": "kzFllSjmqG3r",
        "outputId": "73a102f5-db52-43c4-8bd1-8fd650cd659a"
      },
      "execution_count": 25,
      "outputs": [
        {
          "output_type": "stream",
          "name": "stdout",
          "text": [
            "Division:  0.3333333333333333\n"
          ]
        }
      ]
    },
    {
      "cell_type": "code",
      "source": [
        "# 2. Write a program that accepts a sentence and replace each occurrence of ‘python’ with ‘pythons’.\n",
        "# Ask user to give a sentence as input\n",
        "Input_Sentence = input(\"Enter a sentence: \")"
      ],
      "metadata": {
        "colab": {
          "base_uri": "https://localhost:8080/"
        },
        "id": "JqY5egXxrihR",
        "outputId": "c3c943fd-0bf4-4b43-a6e1-b9bc99ab96f2"
      },
      "execution_count": 26,
      "outputs": [
        {
          "name": "stdout",
          "output_type": "stream",
          "text": [
            "Enter a sentence: I love playing with python\n"
          ]
        }
      ]
    },
    {
      "cell_type": "code",
      "source": [
        "#Replace function is used to replace word\n",
        "modified_sentence = Input_Sentence.replace('python','pythons')\n",
        "\n",
        "# print sentence after modification\n",
        "print(\"The sentence after modification: \", modified_sentence)"
      ],
      "metadata": {
        "colab": {
          "base_uri": "https://localhost:8080/"
        },
        "id": "qj6vER_-ri_K",
        "outputId": "8e704b1e-df43-40a8-bd58-646a7d1ef0e1"
      },
      "execution_count": 29,
      "outputs": [
        {
          "output_type": "stream",
          "name": "stdout",
          "text": [
            "The sentence after modification:  I love playing with pythons\n"
          ]
        }
      ]
    },
    {
      "cell_type": "code",
      "source": [
        "# 3. Use the if statement conditions to write a program to print the letter grade based on an input class score.\n",
        "# Use the grading scheme we are using in this class.\n",
        "\n",
        "# Ask user to input score\n",
        "score = float(input(\"Enter total score: \"))"
      ],
      "metadata": {
        "colab": {
          "base_uri": "https://localhost:8080/"
        },
        "id": "A8TgzXXw1lf7",
        "outputId": "e56a0783-150b-468b-e08d-8c4f19ddc4fc"
      },
      "execution_count": 30,
      "outputs": [
        {
          "name": "stdout",
          "output_type": "stream",
          "text": [
            "Enter total score: 90.5\n"
          ]
        }
      ]
    },
    {
      "cell_type": "code",
      "source": [
        "# Check score based on grading scheme\n",
        "if score >= 90:\n",
        "  grade = 'A'\n",
        "elif score >= 80:\n",
        "  grade = 'B'\n",
        "elif score >= 70:\n",
        "  garde = 'C'\n",
        "elif score >= 60:\n",
        "  grade = 'D'\n",
        "else:\n",
        "  grade = 'F'\n",
        "# print grade\n",
        "print(\"Final grade for given score is: \", grade)"
      ],
      "metadata": {
        "colab": {
          "base_uri": "https://localhost:8080/"
        },
        "id": "baUpHW8R2MRz",
        "outputId": "dbbfb6fd-241a-4ab2-94f4-7bc2dc045588"
      },
      "execution_count": 32,
      "outputs": [
        {
          "output_type": "stream",
          "name": "stdout",
          "text": [
            "Final grade for given score is:  A\n"
          ]
        }
      ]
    }
  ]
}